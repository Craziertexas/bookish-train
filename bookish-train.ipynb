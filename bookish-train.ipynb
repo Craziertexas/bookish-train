{
 "cells": [
  {
   "cell_type": "code",
   "execution_count": null,
   "id": "040d9391-8bc3-4a9c-97b3-0761b664d160",
   "metadata": {},
   "outputs": [],
   "source": [
    "'''\n",
    "METODOLOGÍA\n",
    "\n",
    "A Continuación, se presenta la metodología de evaluación comparativa de\n",
    "tres modelos de clasificación para predecir la columna \"not.fully.paid\",\n",
    "de acuerdo al dataset adquirido. Esta evaluación se llevará a cabo apli-\n",
    "cando redes neuronales artificiales (ANN), redes neuronales para K medias\n",
    "(KNN), y redes neuronales convolucionales (CNN).Se empieza con el respec-t\n",
    "ivo setup e importanción de las librerías con sus debidos parámetros para\n",
    "las gráficas a emplear en la primera celda, siendo la segunda y la tercera\n",
    "de la obtención de los dataframes, incluyendo la codificación de cada pro-\n",
    "pósito de préstamo, inlcuyendo el \"home_improvement\", el cual no se encon\n",
    "traba en el documento guía. Seguidamente, en la cuarta celda se procede a\n",
    "realizar un análisis estadístico del dataset.\n",
    "'''\n",
    "#Importar librerias\n",
    "\n",
    "import pandas as pd\n",
    "import neurolab as nl\n",
    "import seaborn as sns\n",
    "import matplotlib.pyplot as plt\n",
    "import numpy as np\n",
    "import pickle\n",
    "from sklearn import metrics\n",
    "from sklearn.neighbors import KNeighborsClassifier\n",
    "from sklearn.model_selection import train_test_split\n",
    "from sklearn.naive_bayes import GaussianNB\n",
    "from sklearn.linear_model import Perceptron\n",
    "from imblearn.over_sampling import SMOTE\n",
    "import random\n",
    "\n",
    "#Ajustar tamaño de graficas\n",
    "plt.rcParams['figure.figsize'] = [10, 7]\n",
    "#Desactivar Warnings de Referenciado en pandas\n",
    "pd.options.mode.chained_assignment = None"
   ]
  },
  {
   "cell_type": "code",
   "execution_count": null,
   "id": "d97bcad4",
   "metadata": {},
   "outputs": [],
   "source": [
    "'''\n",
    "\n",
    "'''\n",
    "\n",
    "#Load CSV Data\n",
    "\n",
    "with open(r\"Data\\Proy_Final_data.csv\") as file:\n",
    "    Data = pd.read_csv(file, sep= \",\")\n",
    "\n",
    "#Eliminar columna indice\n",
    "Data = Data.drop({\"Unnamed: 0\"}, axis=\"columns\")\n",
    "\n",
    "print(\"-------------------------------\")\n",
    "print(\"Data Cargada: \")\n",
    "print(Data.head(4))\n",
    "print(\"-------------------------------\")\n",
    "print(\"Informacion del Dataset: \")\n",
    "print(Data.info())\n",
    "print(\"-------------------------------\")"
   ]
  },
  {
   "cell_type": "code",
   "execution_count": null,
   "id": "ef9f310e",
   "metadata": {},
   "outputs": [],
   "source": [
    "#Codificacion de propositos\n",
    "'''\n",
    "    \n",
    "'''\n",
    "#Valores unicos de la columna de propositos\n",
    "print(\"-------------------------------\")\n",
    "print(\"Valores unicos de la columna de propositos: \")\n",
    "print(Data[\"purpose\"].unique())\n",
    "print(\"-------------------------------\")\n",
    "\n",
    "#Asignacion de valores numericos\n",
    "Purposes = {\n",
    "    \"credit_card\" : 0,\n",
    "    \"debt_consolidation\" : 1,\n",
    "    \"educational\" : 2,\n",
    "    \"major_purchase\" : 3,\n",
    "    \"small_business\" : 4,\n",
    "    \"all_other\" : 5,\n",
    "    \"home_improvement\" : 6\n",
    "}\n",
    "\n",
    "#Copia de dataset\n",
    "CodedData = Data.copy()\n",
    "\n",
    "#Asignacion de codigos a propositos\n",
    "index = 0\n",
    "for Purpose in Data[\"purpose\"]:\n",
    "    for UniquePurpose in Purposes:\n",
    "        if UniquePurpose == Purpose:\n",
    "            CodedData[\"purpose\"][index] = Purposes[UniquePurpose] \n",
    "    index = index + 1\n",
    "\n",
    "CodedData = CodedData.apply(pd.to_numeric)\n",
    "\n",
    "#Dataset Codificado\n",
    "print(\"-------------------------------\")\n",
    "print(\"Dataset Codificado: \")\n",
    "print(CodedData.head())\n",
    "print(\"-------------------------------\")"
   ]
  },
  {
   "cell_type": "code",
   "execution_count": null,
   "id": "5bd27d28",
   "metadata": {},
   "outputs": [],
   "source": [
    "'''\n",
    "-ANÁLISIS ESTADÍSTICO DEL DATASET\n",
    "En esta sección, se busca conocer a profundidad el comportamiento\n",
    "del dataset a través de métodos estocásticos. Pero se debe tener\n",
    "en cuenta que como se aplicarán redes neuronales para todos los \n",
    "modelos, es necesario normalizar las variables de manera que cada\n",
    "una de ellas sean comparables entre síPara ello, se realiza un \n",
    "estudio de correlación, que brinda la librería \"Seaborn\", de cada \n",
    "variable codificada en la celda anterior, de la cual se observa que...\n",
    "\n",
    "'''\n",
    "#Estadisticos del Dataset\n",
    "\n",
    "#Correlacion entre variables\n",
    "Correlation = CodedData.corr()\n",
    "sns.heatmap(Correlation, annot=True)\n",
    "plt.title(\"Matriz de Correlaciones\")\n",
    "plt.figure(1)\n",
    "plt.show()\n",
    "\n",
    "#Grafico de distribucion del dataset\n",
    "sns.barplot(x = (CodedData[\"not.fully.paid\"].unique()), \n",
    "            y = CodedData.pivot_table(columns = [\"not.fully.paid\"], aggfunc = 'size')/CodedData.shape[0])\n",
    "plt.title(\"Distribucion del Dataset en funcion del pago de deudas\")\n",
    "plt.figure(2)\n",
    "plt.show()"
   ]
  },
  {
   "cell_type": "code",
   "execution_count": null,
   "id": "117157bb",
   "metadata": {},
   "outputs": [],
   "source": [
    "'''\n",
    "\n",
    "'''\n",
    "#Almacenado Dataset De prueba y  entrenamiento \n",
    "\n",
    "#Division de creditos aprobados y rechazados\n",
    "RejectedDT = CodedData.loc[CodedData[\"not.fully.paid\"] == 0].copy()\n",
    "AProvedDT = CodedData.loc[CodedData[\"not.fully.paid\"] == 1].copy()\n",
    "\n",
    "NRejected = CodedData.pivot_table(columns = [\"not.fully.paid\"], aggfunc = 'size')[0]\n",
    "\n",
    "#Seleccion de dataset de prueba balanceado (10% del dataset original)\n",
    "AprovedTestDT = AProvedDT.sample(frac = 0.10, random_state = random.randrange(100,1000))\n",
    "NAprovedTest = AprovedTestDT.shape[0]\n",
    "RejectedTestDT = RejectedDT.sample(frac = NAprovedTest/NRejected, random_state = random.randrange(100,1000))\n",
    "NRejectedTest = RejectedTestDT.shape[0]\n",
    "\n",
    "#Dataset de entrenamiento\n",
    "AprovedTrainDT = AProvedDT.drop(AprovedTestDT.index)\n",
    "AprovedTrainDT = AprovedTrainDT.reset_index(drop = True)\n",
    "RejectedTrainDT = RejectedDT.drop(RejectedTestDT.index)\n",
    "RejectedTrainDT = RejectedTrainDT.reset_index(drop = True)\n",
    "\n",
    "TrainDT = pd.concat([AprovedTrainDT, RejectedTrainDT], axis = 0, copy = True, ignore_index = True)\n",
    "TrainDT = TrainDT.reset_index(drop = True)"
   ]
  },
  {
   "cell_type": "code",
   "execution_count": null,
   "id": "6c284b2d",
   "metadata": {},
   "outputs": [],
   "source": [
    "#Metodologia de Dataset Completo\n",
    "\n",
    "#Normalizar el Dataset\n",
    "NormalizedData = (TrainDT - TrainDT.min())/(TrainDT.max() -TrainDT.min())"
   ]
  },
  {
   "cell_type": "code",
   "execution_count": null,
   "id": "f64f618f",
   "metadata": {},
   "outputs": [],
   "source": [
    "#Perceptron de unica capa\n",
    "XTrain, XTest, YTrain, YTest = train_test_split(NormalizedData.drop([\"not.fully.paid\"], axis = 1), \n",
    "                                                NormalizedData[\"not.fully.paid\"],\n",
    "                                                test_size = 0.3)\n",
    "\n",
    "clf = Perceptron(tol=1e-6, random_state= random.randrange(1,9999), n_jobs = 4)\n",
    "clf.fit(XTrain, YTrain)\n",
    "YPredict = clf.predict(XTest)\n",
    "\n",
    "#Curva ROC\n",
    "fpr, tpr, tresh = metrics.roc_curve(YTest, YPredict)\n",
    "roc_auc = metrics.auc(fpr, tpr)\n",
    "RocCurve = metrics.RocCurveDisplay(fpr = fpr,tpr = tpr, roc_auc = roc_auc, estimator_name = \"Perceptron ROC\")\n",
    "RocCurve.plot()\n",
    "plt.show()\n",
    "\n",
    "pickle.dump(clf, open(r\"OutPut\\ANN\\FullDataset\\Network_Dataset_Completo\", \"wb\"))"
   ]
  },
  {
   "cell_type": "code",
   "execution_count": null,
   "id": "93104110",
   "metadata": {},
   "outputs": [],
   "source": [
    "#Clasificador KNN\n",
    "\n",
    "XTrain, XTest, YTrain, YTest = train_test_split(NormalizedData.drop([\"not.fully.paid\"], axis = 1), \n",
    "                                                NormalizedData[\"not.fully.paid\"],\n",
    "                                                test_size = 0.3)\n",
    "\n",
    "K = 1\n",
    "LastAccuracy = 0\n",
    "\n",
    "KNNmodel = KNeighborsClassifier(n_neighbors=K)\n",
    "KNNmodel.fit(XTrain, YTrain)\n",
    "YPredict = KNNmodel.predict(XTest)\n",
    "Accuracy = metrics.accuracy_score(YTest, YPredict)\n",
    "\n",
    "AccuracyPlot = np.array(Accuracy)\n",
    "KPlot = np.array(K)\n",
    "\n",
    "while (Accuracy > LastAccuracy*0.95) and (round(Accuracy,5) != round(LastAccuracy,5)):\n",
    "    K = K + 1\n",
    "    KNNmodel = KNeighborsClassifier(n_neighbors=K)\n",
    "    KNNmodel.fit(XTrain, YTrain)\n",
    "    YPredict = KNNmodel.predict(XTest)\n",
    "    LastAccuracy = Accuracy\n",
    "    Accuracy = metrics.accuracy_score(YTest, YPredict)\n",
    "\n",
    "    AccuracyPlot = np.append(AccuracyPlot, Accuracy)\n",
    "    KPlot = np.append(KPlot, K)\n",
    "\n",
    "#Curva Roc\n",
    "fpr, tpr, tresh = metrics.roc_curve(YTest, YPredict)\n",
    "roc_auc = metrics.auc(fpr, tpr)\n",
    "RocCurve = metrics.RocCurveDisplay(fpr = fpr,tpr = tpr, roc_auc = roc_auc, estimator_name = \"KNN ROC\")\n",
    "RocCurve.plot()\n",
    "plt.show()\n",
    "\n",
    "#Curva Accuracy\n",
    "plt.plot(KPlot, AccuracyPlot)\n",
    "plt.title(\"Error Clasificador KNN\")\n",
    "plt.show()\n",
    "\n",
    "pickle.dump(KNNmodel, open(\"OutPut\\KNN\\FullDataset\\KNN_FullDataset\", \"wb\"))"
   ]
  },
  {
   "cell_type": "code",
   "execution_count": null,
   "id": "7edfa23d",
   "metadata": {},
   "outputs": [],
   "source": [
    "#Clasificador Naive Bayes Gaussiano\n",
    "\n",
    "XTrain, XTest, YTrain, YTest = train_test_split(NormalizedData.drop([\"not.fully.paid\"], axis = 1), \n",
    "                                                NormalizedData[\"not.fully.paid\"],\n",
    "                                                test_size = 0.3)\n",
    "\n",
    "BayesModel = GaussianNB()\n",
    "BayesModel.fit(XTrain, YTrain)\n",
    "YPredict = BayesModel.predict(XTest)\n",
    "\n",
    "#Curva Roc\n",
    "fpr, tpr, tresh = metrics.roc_curve(YTest, YPredict)\n",
    "roc_auc = metrics.auc(fpr, tpr)\n",
    "RocCurve = metrics.RocCurveDisplay(fpr = fpr,tpr = tpr, roc_auc = roc_auc)\n",
    "RocCurve.plot()\n",
    "plt.show()\n",
    "pickle.dump(KNNmodel, open(\"OutPut\\BAYES\\FullDataset\\Bayes_FullDataset\", \"wb\"))"
   ]
  },
  {
   "cell_type": "code",
   "execution_count": null,
   "id": "4c209858",
   "metadata": {},
   "outputs": [],
   "source": [
    "#Metodologia de Balanceo por submuestreo de la clase mayoritaria\n",
    "\n",
    "NAproved = TrainDT.pivot_table(columns = [\"not.fully.paid\"], aggfunc = 'size')[1]\n",
    "NRejected = TrainDT.pivot_table(columns = [\"not.fully.paid\"], aggfunc = 'size')[0]\n",
    "NSubsamples = (NRejected/NAproved)\n",
    "print(\"Cantidades de creditos aprobados\")\n",
    "print(NAproved)\n",
    "print(\"Candidades de creditos rechazados\")\n",
    "print(NRejected)\n",
    "print(\"Numero de submuestras\")\n",
    "print(NSubsamples)\n",
    "\n",
    "RejectedDT = NormalizedData.loc[NormalizedData[\"not.fully.paid\"] == 0].copy()\n",
    "AProvedDT = NormalizedData.loc[NormalizedData[\"not.fully.paid\"] == 1].copy()\n",
    "\n",
    "Subsamples = list()\n",
    "for i in range(int(NSubsamples)):\n",
    "    Subsample = RejectedDT.sample(frac = 1/(NSubsamples - i), random_state = random.randrange(100,1000))\n",
    "    RejectedDT = RejectedDT.drop(Subsample.index)\n",
    "    Subsample = pd.concat([Subsample, AProvedDT])\n",
    "    Subsample = Subsample.reset_index(drop = True)\n",
    "    Subsamples.append(Subsample)\n",
    "\n",
    "print(\"Submuestras: \")\n",
    "z = 0\n",
    "for Subsample in Subsamples:\n",
    "    print(Subsample.shape)\n",
    "    sns.barplot(x = (Subsample[\"not.fully.paid\"].unique()), \n",
    "            y = Subsample.pivot_table(columns = [\"not.fully.paid\"], aggfunc = 'size')/Subsample.shape[0])\n",
    "    plt.title(\"Distribucion del Subsample N°\" + str(z) + \" en funcion del pago de deudas\")\n",
    "    plt.figure(2)\n",
    "    plt.show()\n",
    "    z = z + 1"
   ]
  },
  {
   "cell_type": "code",
   "execution_count": null,
   "id": "ad10e393",
   "metadata": {},
   "outputs": [],
   "source": [
    "#Perceptron de unica capa\n",
    "\n",
    "z = 0\n",
    "clf_list = list()\n",
    "accuracy_list = list()\n",
    "\n",
    "for Subsample in Subsamples:\n",
    "    XTrain, XTest, YTrain, YTest = train_test_split(Subsample.drop([\"not.fully.paid\"], axis = 1), \n",
    "                                                Subsample[\"not.fully.paid\"],\n",
    "                                                test_size = 0.3)\n",
    "\n",
    "    clf = Perceptron(tol=1e-6, random_state= random.randrange(1,9999), n_jobs = 4)\n",
    "    clf.fit(XTrain, YTrain)\n",
    "    YPredict = clf.predict(XTest)\n",
    "    \n",
    "    #Accuracy\n",
    "    accuracy_list.append(metrics.accuracy_score(YTest, YPredict))\n",
    "    clf_list.append(clf)\n",
    "\n",
    "    #Curva ROC\n",
    "    fpr, tpr, tresh = metrics.roc_curve(YTest, YPredict)\n",
    "    roc_auc = metrics.auc(fpr, tpr)\n",
    "    RocCurve = metrics.RocCurveDisplay(fpr = fpr,tpr = tpr, roc_auc = roc_auc, estimator_name = \"Perceptron ROC\")\n",
    "    RocCurve.plot()\n",
    "    plt.show()\n",
    "\n",
    "    z = z + 1\n",
    "\n",
    "pickle.dump(clf_list[accuracy_list.index(max(accuracy_list))], open(r\"OutPut\\ANN\\Subsample\\Network_Subsample_equal\", \"wb\"))"
   ]
  },
  {
   "cell_type": "code",
   "execution_count": null,
   "id": "a1349636",
   "metadata": {},
   "outputs": [],
   "source": [
    "#Clasificador KNN\n",
    "\n",
    "z = 0\n",
    "KNN_list = list()\n",
    "accuracy_list = list()\n",
    "\n",
    "for subsample in Subsamples:\n",
    "    XTrain, XTest, YTrain, YTest = train_test_split(Subsample.drop([\"not.fully.paid\"], axis = 1), Subsample[\"not.fully.paid\"],test_size = 0.3)\n",
    "\n",
    "    \n",
    "    K = 1\n",
    "    LastAccuracy = 0\n",
    "    KNNmodel = KNeighborsClassifier(n_neighbors=K)\n",
    "    \n",
    "    KNNmodel.fit(XTrain, YTrain)\n",
    "    YPredict = KNNmodel.predict(XTest)\n",
    "    Accuracy = metrics.accuracy_score(YTest, YPredict)\n",
    "\n",
    "    AccuracyPlot = np.array(Accuracy)\n",
    "    KPlot = np.array(K)\n",
    "\n",
    "    while (Accuracy > LastAccuracy*0.90) and (round(Accuracy,5) != round(LastAccuracy,5)):\n",
    "        K = K + 1\n",
    "        KNNmodel = KNeighborsClassifier(n_neighbors=K)\n",
    "        KNNmodel.fit(XTrain, YTrain)\n",
    "        YPredict = KNNmodel.predict(XTest)\n",
    "        LastAccuracy = Accuracy\n",
    "        Accuracy = metrics.accuracy_score(YTest, YPredict)\n",
    "\n",
    "        AccuracyPlot = np.append(AccuracyPlot, Accuracy)\n",
    "        KPlot = np.append(KPlot, K)\n",
    "    \n",
    "    KNN_list.append(KNNmodel)\n",
    "    accuracy_list.append(Accuracy)\n",
    "    \n",
    "    plt.plot(KPlot, AccuracyPlot)\n",
    "    plt.title(\"Error Clasificador KNN (Dataset Subsampleado N°\"+str(z)+\")\")\n",
    "    plt.figure(4)\n",
    "    plt.show()\n",
    "    \n",
    "    Error = pd.DataFrame(YTest - YPredict)\n",
    "    fpr, tpr, tresh = metrics.roc_curve(YTest, YPredict)\n",
    "    roc_auc = metrics.auc(fpr, tpr)\n",
    "    RocCurve = metrics.RocCurveDisplay(fpr = fpr,tpr = tpr, roc_auc = roc_auc, estimator_name = \"KNN ROC\")\n",
    "    RocCurve.plot()\n",
    "    plt.show()\n",
    "\n",
    "    z = z + 1\n",
    "\n",
    "pickle.dump(KNN_list[accuracy_list.index(max(accuracy_list))], open(r\"OutPut\\KNN\\Subsample\\KNN_Subsample\", \"wb\"))"
   ]
  },
  {
   "cell_type": "code",
   "execution_count": null,
   "id": "d0517f89",
   "metadata": {},
   "outputs": [],
   "source": [
    "#Clasificador Naive Bayes Gaussiano\n",
    "\n",
    "z = 0\n",
    "Bayes_list = list()\n",
    "accuracy_list = list()\n",
    "\n",
    "for subsample in Subsamples:\n",
    "    XTrain, XTest, YTrain, YTest = train_test_split(NormalizedData.drop([\"not.fully.paid\"], axis = 1), \n",
    "                                                    NormalizedData[\"not.fully.paid\"],\n",
    "                                                    test_size = 0.3)\n",
    "\n",
    "    BayesModel = GaussianNB()\n",
    "    BayesModel.fit(XTrain, YTrain)\n",
    "    YPredict = BayesModel.predict(XTest)\n",
    "\n",
    "    accuracy_list.append(metrics.accuracy_score(YTest, YPredict))\n",
    "    Bayes_list.append(BayesModel)\n",
    "\n",
    "    #Curva Roc\n",
    "    fpr, tpr, tresh = metrics.roc_curve(YTest, YPredict)\n",
    "    roc_auc = metrics.auc(fpr, tpr)\n",
    "    RocCurve = metrics.RocCurveDisplay(fpr = fpr,tpr = tpr, roc_auc = roc_auc)\n",
    "    RocCurve.plot()\n",
    "    plt.show()\n",
    "\n",
    "    z = z + 1\n",
    "    \n",
    "pickle.dump(Bayes_list[accuracy_list.index(max(accuracy_list))], open(\"OutPut\\BAYES\\Subsample\\Bayes_Subsample\", \"wb\"))"
   ]
  },
  {
   "cell_type": "code",
   "execution_count": null,
   "id": "c507985a",
   "metadata": {},
   "outputs": [],
   "source": [
    "#Ensemble con submuestreo"
   ]
  },
  {
   "cell_type": "code",
   "execution_count": null,
   "id": "b7f114ab",
   "metadata": {},
   "outputs": [],
   "source": [
    "#Perceptron de unica capa\n",
    "\n",
    "z = 0\n",
    "\n",
    "for Subsample in Subsamples:\n",
    "    XTrain, XTest, YTrain, YTest = train_test_split(Subsample.drop([\"not.fully.paid\"], axis = 1), \n",
    "                                                Subsample[\"not.fully.paid\"],\n",
    "                                                test_size = 0.3)\n",
    "\n",
    "    clf = Perceptron(tol=1e-6, random_state= random.randrange(1,9999), n_jobs = 4)\n",
    "    clf.fit(XTrain, YTrain)\n",
    "    YPredict = clf.predict(XTest)\n",
    "    \n",
    "    #Accuracy\n",
    "    accuracy_list.append(metrics.accuracy_score(YTest, YPredict))\n",
    "\n",
    "    #Curva ROC\n",
    "    fpr, tpr, tresh = metrics.roc_curve(YTest, YPredict)\n",
    "    roc_auc = metrics.auc(fpr, tpr)\n",
    "    RocCurve = metrics.RocCurveDisplay(fpr = fpr,tpr = tpr, roc_auc = roc_auc, estimator_name = \"Perceptron ROC\")\n",
    "    RocCurve.plot()\n",
    "    plt.show()\n",
    "\n",
    "    pickle.dump(clf, open(r\"OutPut\\ANN\\Ensemble\\Network_Ensemble_N\" + str(z), \"wb\"))\n",
    "\n",
    "    z = z + 1\n"
   ]
  },
  {
   "cell_type": "code",
   "execution_count": null,
   "id": "d8b73742",
   "metadata": {},
   "outputs": [],
   "source": [
    "#Clasificador KNN\n",
    "\n",
    "z = 0\n",
    "for subsample in Subsamples:\n",
    "\n",
    "    XTrain, XTest, YTrain, YTest = train_test_split(Subsample.drop([\"not.fully.paid\"], axis = 1), Subsample[\"not.fully.paid\"],test_size = 0.3)\n",
    "\n",
    "    K = 1\n",
    "    LastAccuracy = 0\n",
    "\n",
    "    KNNmodel = KNeighborsClassifier(n_neighbors=K)\n",
    "    KNNmodel.fit(XTrain, YTrain)\n",
    "    YPredict = KNNmodel.predict(XTest)\n",
    "    Accuracy = metrics.accuracy_score(YTest, YPredict)\n",
    "\n",
    "    AccuracyPlot = np.array(Accuracy)\n",
    "    KPlot = np.array(K)\n",
    "\n",
    "    while (Accuracy > LastAccuracy*0.95) and (round(Accuracy,5) != round(LastAccuracy,5)):\n",
    "        K = K + 1\n",
    "        KNNmodel = KNeighborsClassifier(n_neighbors=K)\n",
    "        KNNmodel.fit(XTrain, YTrain)\n",
    "        YPredict = KNNmodel.predict(XTest)\n",
    "        LastAccuracy = Accuracy\n",
    "        Accuracy = metrics.accuracy_score(YTest, YPredict)\n",
    "\n",
    "        AccuracyPlot = np.append(AccuracyPlot, Accuracy)\n",
    "        KPlot = np.append(KPlot, K)\n",
    "\n",
    "    plt.plot(KPlot, AccuracyPlot)\n",
    "    plt.title(\"Error Clasificador KNN (Dataset Subsampleado N°\"+str(z)+\")\")\n",
    "    plt.figure(4)\n",
    "    plt.show()\n",
    "\n",
    "    #Curva ROC\n",
    "    fpr, tpr, tresh = metrics.roc_curve(YTest, YPredict)\n",
    "    roc_auc = metrics.auc(fpr, tpr)\n",
    "    RocCurve = metrics.RocCurveDisplay(fpr = fpr,tpr = tpr, roc_auc = roc_auc, estimator_name = \"Perceptron ROC\")\n",
    "    RocCurve.plot()\n",
    "    plt.show()\n",
    "    \n",
    "    pickle.dump(KNNmodel, open(r\"OutPut\\KNN\\Ensemble\\KNN_Ensemble_N\" + str(z), \"wb\"))\n",
    "    z = z + 1"
   ]
  },
  {
   "cell_type": "code",
   "execution_count": null,
   "id": "218b3363",
   "metadata": {},
   "outputs": [],
   "source": [
    "#Clasificador Naive Bayes Gaussiano\n",
    "\n",
    "z = 0\n",
    "for subsample in Subsamples:\n",
    "    XTrain, XTest, YTrain, YTest = train_test_split(subsample.drop([\"not.fully.paid\"], axis = 1), \n",
    "                                                    subsample[\"not.fully.paid\"],\n",
    "                                                    test_size = 0.3)\n",
    "\n",
    "    BayesModel = GaussianNB()\n",
    "    BayesModel.fit(XTrain, YTrain)\n",
    "    YPredict = BayesModel.predict(XTest)\n",
    "\n",
    "    #Curva Roc\n",
    "    fpr, tpr, tresh = metrics.roc_curve(YTest, YPredict)\n",
    "    roc_auc = metrics.auc(fpr, tpr)\n",
    "    RocCurve = metrics.RocCurveDisplay(fpr = fpr,tpr = tpr, roc_auc = roc_auc)\n",
    "    RocCurve.plot()\n",
    "    plt.show()\n",
    "\n",
    "    pickle.dump(BayesModel, open(r\"OutPut\\BAYES\\Ensemble\\Bayes_Ensemble_N\" + str(z), \"wb\"))\n",
    "\n",
    "    z = z + 1"
   ]
  },
  {
   "cell_type": "code",
   "execution_count": 97,
   "id": "126d2d95",
   "metadata": {},
   "outputs": [
    {
     "name": "stdout",
     "output_type": "stream",
     "text": [
      "Oversampled Input Dataframe: \n",
      "   credit.policy   purpose  int.rate  installment  log.annual.inc       dti  \\\n",
      "0            0.0  0.833333  0.107417     0.421658        0.456793  0.789052   \n",
      "1            1.0  1.000000  0.372762     0.879077        0.690924  0.083778   \n",
      "2            1.0  1.000000  0.417519     0.229223        0.506334  0.136849   \n",
      "3            0.0  0.833333  0.543478     0.057525        0.512797  0.806409   \n",
      "4            0.0  1.000000  0.639386     0.165598        0.494868  0.460614   \n",
      "\n",
      "       fico  days.with.cr.line  revol.bal  revol.util  inq.last.6mths  \\\n",
      "0  0.465116           0.175307   0.048864    0.468067        0.090909   \n",
      "1  0.883721           0.286985   0.001714    0.033613        0.030303   \n",
      "2  0.627907           0.149533   0.000128    0.010084        0.181818   \n",
      "3  0.232558           0.297293   0.008695    0.840336        0.030303   \n",
      "4  0.255814           0.195925   0.008085    0.455462        0.181818   \n",
      "\n",
      "   delinq.2yrs  pub.rec  \n",
      "0          0.0      0.0  \n",
      "1          0.0      0.0  \n",
      "2          0.0      0.0  \n",
      "3          0.0      0.0  \n",
      "4          0.0      0.2  \n",
      "Oversampled Target Dataframe: \n",
      "   not.fully.paid\n",
      "0             1.0\n",
      "1             1.0\n",
      "2             1.0\n",
      "3             1.0\n",
      "4             1.0\n"
     ]
    },
    {
     "data": {
      "image/png": "[encoded data removed]",
      "text/plain": [
       "<Figure size 720x504 with 1 Axes>"
      ]
     },
     "metadata": {
      "needs_background": "light"
     },
     "output_type": "display_data"
    },
    {
     "data": {
      "text/plain": [
       "<Figure size 720x504 with 0 Axes>"
      ]
     },
     "metadata": {},
     "output_type": "display_data"
    }
   ],
   "source": [
    "#Metodologia SMOTE\n",
    "SM = SMOTE(sampling_strategy = 1.0, random_state = random.randrange(200,1000), k_neighbors = 5, n_jobs = 2)\n",
    "\n",
    "SMDT = NormalizedData.copy()\n",
    "InputDT, TargetDT = SM.fit_resample(SMDT.drop([\"not.fully.paid\"], axis = 1), SMDT[\"not.fully.paid\"])\n",
    "TargetDT = TargetDT.to_frame()\n",
    "print(\"Oversampled Input Dataframe: \")\n",
    "print(InputDT.head())\n",
    "print(\"Oversampled Target Dataframe: \")\n",
    "print(TargetDT.head())\n",
    "\n",
    "sns.barplot(x = (TargetDT[\"not.fully.paid\"].unique()), \n",
    "            y = TargetDT.pivot_table(columns = [\"not.fully.paid\"], aggfunc = 'size')/TargetDT.shape[0])\n",
    "plt.title(\"Distribucion del Dataset luego de SMOTE\")\n",
    "plt.figure(2)\n",
    "plt.show()"
   ]
  },
  {
   "cell_type": "code",
   "execution_count": 98,
   "id": "fbfabac5",
   "metadata": {},
   "outputs": [
    {
     "name": "stderr",
     "output_type": "stream",
     "text": [
      "C:\\Users\\David\\AppData\\Local\\Programs\\Python\\Python39\\lib\\site-packages\\sklearn\\utils\\validation.py:985: DataConversionWarning: A column-vector y was passed when a 1d array was expected. Please change the shape of y to (n_samples, ), for example using ravel().\n",
      "  y = column_or_1d(y, warn=True)\n"
     ]
    },
    {
     "data": {
      "image/png": "[encoded data removed]",
      "text/plain": [
       "<Figure size 720x504 with 1 Axes>"
      ]
     },
     "metadata": {
      "needs_background": "light"
     },
     "output_type": "display_data"
    }
   ],
   "source": [
    "#Red Neuronal\n",
    "\n",
    "XTrain, XTest, YTrain, YTest = train_test_split(InputDT, TargetDT, test_size = 0.3)\n",
    "\n",
    "clf = Perceptron(tol=1e-6, random_state= random.randrange(1,9999), n_jobs = 4)\n",
    "clf.fit(XTrain, YTrain)\n",
    "YPredict = clf.predict(XTest)\n",
    "\n",
    "#Curva ROC\n",
    "fpr, tpr, tresh = metrics.roc_curve(YTest, YPredict)\n",
    "roc_auc = metrics.auc(fpr, tpr)\n",
    "RocCurve = metrics.RocCurveDisplay(fpr = fpr,tpr = tpr, roc_auc = roc_auc, estimator_name = \"Perceptron ROC\")\n",
    "RocCurve.plot()\n",
    "plt.show()\n",
    "\n",
    "pickle.dump(clf, open(r\"OutPut\\ANN\\SMOTE\\Network_Dataset_SMOTE\", \"wb\"))"
   ]
  },
  {
   "cell_type": "code",
   "execution_count": 99,
   "id": "73714a74",
   "metadata": {},
   "outputs": [
    {
     "name": "stderr",
     "output_type": "stream",
     "text": [
      "C:\\Users\\David\\AppData\\Local\\Programs\\Python\\Python39\\lib\\site-packages\\sklearn\\neighbors\\_classification.py:198: DataConversionWarning: A column-vector y was passed when a 1d array was expected. Please change the shape of y to (n_samples,), for example using ravel().\n",
      "  return self._fit(X, y)\n"
     ]
    },
    {
     "name": "stdout",
     "output_type": "stream",
     "text": [
      "K = 1, Accuracy: 0.8524223602484472\n"
     ]
    },
    {
     "name": "stderr",
     "output_type": "stream",
     "text": [
      "C:\\Users\\David\\AppData\\Local\\Programs\\Python\\Python39\\lib\\site-packages\\sklearn\\neighbors\\_classification.py:198: DataConversionWarning: A column-vector y was passed when a 1d array was expected. Please change the shape of y to (n_samples,), for example using ravel().\n",
      "  return self._fit(X, y)\n"
     ]
    },
    {
     "name": "stdout",
     "output_type": "stream",
     "text": [
      "Last Accuracy: 0.8524223602484472\n",
      "K = 2, Accuracy: 0.8650931677018634\n"
     ]
    },
    {
     "name": "stderr",
     "output_type": "stream",
     "text": [
      "C:\\Users\\David\\AppData\\Local\\Programs\\Python\\Python39\\lib\\site-packages\\sklearn\\neighbors\\_classification.py:198: DataConversionWarning: A column-vector y was passed when a 1d array was expected. Please change the shape of y to (n_samples,), for example using ravel().\n",
      "  return self._fit(X, y)\n"
     ]
    },
    {
     "name": "stdout",
     "output_type": "stream",
     "text": [
      "Last Accuracy: 0.8650931677018634\n",
      "K = 3, Accuracy: 0.8111801242236025\n"
     ]
    },
    {
     "data": {
      "image/png": "[encoded data removed]",
      "text/plain": [
       "<Figure size 720x504 with 1 Axes>"
      ]
     },
     "metadata": {
      "needs_background": "light"
     },
     "output_type": "display_data"
    },
    {
     "data": {
      "text/plain": [
       "<Figure size 720x504 with 0 Axes>"
      ]
     },
     "metadata": {},
     "output_type": "display_data"
    }
   ],
   "source": [
    "#Clasificador KNN\n",
    "\n",
    "XTrain, XTest, YTrain, YTest = train_test_split(InputDT, TargetDT, test_size = 0.3)\n",
    "\n",
    "K = 1\n",
    "LastAccuracy = 0\n",
    "\n",
    "KNNmodel = KNeighborsClassifier(n_neighbors=K)\n",
    "KNNmodel.fit(XTrain, YTrain)\n",
    "YPredict = KNNmodel.predict(XTest)\n",
    "Accuracy = metrics.accuracy_score(YTest, YPredict)\n",
    "print(\"K = \" + str(K) + \", Accuracy: \" + str(Accuracy))\n",
    "\n",
    "AccuracyPlot = np.array(Accuracy)\n",
    "KPlot = np.array(K)\n",
    "\n",
    "while (Accuracy > LastAccuracy*0.95) and (round(Accuracy,5) != round(LastAccuracy,5)):\n",
    "    K = K + 1\n",
    "    KNNmodel = KNeighborsClassifier(n_neighbors=K)\n",
    "    KNNmodel.fit(XTrain, YTrain)\n",
    "    YPredict = KNNmodel.predict(XTest)\n",
    "    LastAccuracy = Accuracy\n",
    "    Accuracy = metrics.accuracy_score(YTest, YPredict)\n",
    "    print(\"Last Accuracy: \" + str(LastAccuracy))\n",
    "    print(\"K = \" + str(K) + \", Accuracy: \" + str(Accuracy))\n",
    "\n",
    "    AccuracyPlot = np.append(AccuracyPlot, Accuracy)\n",
    "    KPlot = np.append(KPlot, K)\n",
    "\n",
    "pickle.dump(KNNmodel, open(r\"OutPut\\KNN\\SMOTE\\KNN_SMOTE\", \"wb\"))\n",
    "plt.plot(KPlot, AccuracyPlot)\n",
    "plt.title(\"Error Clasificador KNN \")\n",
    "plt.figure(4)\n",
    "plt.show()"
   ]
  },
  {
   "cell_type": "code",
   "execution_count": 100,
   "id": "b5dce700",
   "metadata": {},
   "outputs": [
    {
     "name": "stderr",
     "output_type": "stream",
     "text": [
      "C:\\Users\\David\\AppData\\Local\\Programs\\Python\\Python39\\lib\\site-packages\\sklearn\\utils\\validation.py:985: DataConversionWarning: A column-vector y was passed when a 1d array was expected. Please change the shape of y to (n_samples, ), for example using ravel().\n",
      "  y = column_or_1d(y, warn=True)\n"
     ]
    },
    {
     "data": {
      "image/png": "[encoded data removed]",
      "text/plain": [
       "<Figure size 720x504 with 1 Axes>"
      ]
     },
     "metadata": {
      "needs_background": "light"
     },
     "output_type": "display_data"
    }
   ],
   "source": [
    "#Clasificador bayesiano\n",
    "\n",
    "XTrain, XTest, YTrain, YTest = train_test_split(InputDT, TargetDT, test_size = 0.3)\n",
    "\n",
    "BayesModel = GaussianNB()\n",
    "BayesModel.fit(XTrain, YTrain)\n",
    "YPredict = BayesModel.predict(XTest)\n",
    "\n",
    "#Curva Roc\n",
    "fpr, tpr, tresh = metrics.roc_curve(YTest, YPredict)\n",
    "roc_auc = metrics.auc(fpr, tpr)\n",
    "RocCurve = metrics.RocCurveDisplay(fpr = fpr,tpr = tpr, roc_auc = roc_auc)\n",
    "RocCurve.plot()\n",
    "plt.show()\n",
    "\n",
    "pickle.dump(BayesModel, open(r\"OutPut\\BAYES\\SMOTE\\KNN_SMOTE\", \"wb\"))"
   ]
  }
 ],
 "metadata": {
  "kernelspec": {
   "display_name": "Python 3 (ipykernel)",
   "language": "python",
   "name": "python3"
  },
  "language_info": {
   "codemirror_mode": {
    "name": "ipython",
    "version": 3
   },
   "file_extension": ".py",
   "mimetype": "text/x-python",
   "name": "python",
   "nbconvert_exporter": "python",
   "pygments_lexer": "ipython3",
   "version": "3.9.1"
  }
 },
 "nbformat": 4,
 "nbformat_minor": 5
}
